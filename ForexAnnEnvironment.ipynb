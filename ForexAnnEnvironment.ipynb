{
  "nbformat": 4,
  "nbformat_minor": 0,
  "metadata": {
    "colab": {
      "name": "ForexAnnEnvironment.ipynb",
      "provenance": [],
      "collapsed_sections": [],
      "mount_file_id": "1Y23CLo2oUco-O4CAkKZhYsjzzzbnTeLP",
      "authorship_tag": "ABX9TyPzl6BQHmg7E/hSag3uN+MN",
      "include_colab_link": true
    },
    "kernelspec": {
      "name": "python3",
      "display_name": "Python 3"
    }
  },
  "cells": [
    {
      "cell_type": "markdown",
      "metadata": {
        "id": "view-in-github",
        "colab_type": "text"
      },
      "source": [
        "<a href=\"https://colab.research.google.com/github/robLaing2/Forex_ANN_Forecasting/blob/master/ForexAnnEnvironment.ipynb\" target=\"_parent\"><img src=\"https://colab.research.google.com/assets/colab-badge.svg\" alt=\"Open In Colab\"/></a>"
      ]
    },
    {
      "cell_type": "markdown",
      "metadata": {
        "id": "qo0f_HWfsWuF",
        "colab_type": "text"
      },
      "source": [
        "# Setting up Environment"
      ]
    },
    {
      "cell_type": "code",
      "metadata": {
        "id": "KIPPZ27ksNag",
        "colab_type": "code",
        "outputId": "73efb5b1-d70e-4840-87a1-421d65e31419",
        "colab": {
          "base_uri": "https://localhost:8080/",
          "height": 544
        }
      },
      "source": [
        "%tensorflow_version 2.x\n",
        "\n",
        "!pip install quandl\n",
        "!pip install dbnomics\n",
        "#!pip install FRB\n",
        "!pip install fred\n",
        "!pip install mock\n",
        "#!pip uninstall tensorflow\n",
        "#!pip install tensorflow==2.0.0\n",
        "\n",
        "import fred\n",
        "from mock import Mock\n",
        "import requests\n",
        "import json\n",
        "import quandl\n",
        "import numpy as np\n",
        "import tensorflow as tf\n",
        "import matplotlib.pyplot as plt\n",
        "from tensorflow import keras\n",
        "from tensorflow.keras import layers\n",
        "from keras.models import Sequential\n",
        "from keras.layers import Dense, Activation\n",
        "from dbnomics import fetch_series\n",
        "import pandas as pd\n",
        "from keras.models import model_from_json\n",
        "import matplotlib as mpl\n",
        "import matplotlib.pyplot as plt\n",
        "\n",
        "\n",
        "\n",
        "START_DATE = '2016-01-01'\n",
        "END_DATE = ''"
      ],
      "execution_count": 22,
      "outputs": [
        {
          "output_type": "stream",
          "text": [
            "Requirement already satisfied: quandl in /usr/local/lib/python3.6/dist-packages (3.5.0)\n",
            "Requirement already satisfied: pandas>=0.14 in /usr/local/lib/python3.6/dist-packages (from quandl) (0.25.3)\n",
            "Requirement already satisfied: requests>=2.7.0 in /tensorflow-2.1.0/python3.6 (from quandl) (2.23.0)\n",
            "Requirement already satisfied: inflection>=0.3.1 in /usr/local/lib/python3.6/dist-packages (from quandl) (0.3.1)\n",
            "Requirement already satisfied: more-itertools in /usr/local/lib/python3.6/dist-packages (from quandl) (8.2.0)\n",
            "Requirement already satisfied: six in /tensorflow-2.1.0/python3.6 (from quandl) (1.14.0)\n",
            "Requirement already satisfied: numpy>=1.8 in /tensorflow-2.1.0/python3.6 (from quandl) (1.18.1)\n",
            "Requirement already satisfied: python-dateutil in /usr/local/lib/python3.6/dist-packages (from quandl) (2.6.1)\n",
            "Requirement already satisfied: pytz>=2017.2 in /usr/local/lib/python3.6/dist-packages (from pandas>=0.14->quandl) (2018.9)\n",
            "Requirement already satisfied: idna<3,>=2.5 in /tensorflow-2.1.0/python3.6 (from requests>=2.7.0->quandl) (2.9)\n",
            "Requirement already satisfied: chardet<4,>=3.0.2 in /tensorflow-2.1.0/python3.6 (from requests>=2.7.0->quandl) (3.0.4)\n",
            "Requirement already satisfied: certifi>=2017.4.17 in /tensorflow-2.1.0/python3.6 (from requests>=2.7.0->quandl) (2019.11.28)\n",
            "Requirement already satisfied: urllib3!=1.25.0,!=1.25.1,<1.26,>=1.21.1 in /tensorflow-2.1.0/python3.6 (from requests>=2.7.0->quandl) (1.25.8)\n",
            "Requirement already satisfied: dbnomics in /usr/local/lib/python3.6/dist-packages (1.2.0)\n",
            "Requirement already satisfied: requests>=2.18.4 in /tensorflow-2.1.0/python3.6 (from dbnomics) (2.23.0)\n",
            "Requirement already satisfied: pandas>=0.21 in /usr/local/lib/python3.6/dist-packages (from dbnomics) (0.25.3)\n",
            "Requirement already satisfied: chardet<4,>=3.0.2 in /tensorflow-2.1.0/python3.6 (from requests>=2.18.4->dbnomics) (3.0.4)\n",
            "Requirement already satisfied: urllib3!=1.25.0,!=1.25.1,<1.26,>=1.21.1 in /tensorflow-2.1.0/python3.6 (from requests>=2.18.4->dbnomics) (1.25.8)\n",
            "Requirement already satisfied: idna<3,>=2.5 in /tensorflow-2.1.0/python3.6 (from requests>=2.18.4->dbnomics) (2.9)\n",
            "Requirement already satisfied: certifi>=2017.4.17 in /tensorflow-2.1.0/python3.6 (from requests>=2.18.4->dbnomics) (2019.11.28)\n",
            "Requirement already satisfied: pytz>=2017.2 in /usr/local/lib/python3.6/dist-packages (from pandas>=0.21->dbnomics) (2018.9)\n",
            "Requirement already satisfied: numpy>=1.13.3 in /tensorflow-2.1.0/python3.6 (from pandas>=0.21->dbnomics) (1.18.1)\n",
            "Requirement already satisfied: python-dateutil>=2.6.1 in /usr/local/lib/python3.6/dist-packages (from pandas>=0.21->dbnomics) (2.6.1)\n",
            "Requirement already satisfied: six>=1.5 in /tensorflow-2.1.0/python3.6 (from python-dateutil>=2.6.1->pandas>=0.21->dbnomics) (1.14.0)\n",
            "Requirement already satisfied: fred in /usr/local/lib/python3.6/dist-packages (3.1)\n",
            "Requirement already satisfied: requests in /tensorflow-2.1.0/python3.6 (from fred) (2.23.0)\n",
            "Requirement already satisfied: urllib3!=1.25.0,!=1.25.1,<1.26,>=1.21.1 in /tensorflow-2.1.0/python3.6 (from requests->fred) (1.25.8)\n",
            "Requirement already satisfied: certifi>=2017.4.17 in /tensorflow-2.1.0/python3.6 (from requests->fred) (2019.11.28)\n",
            "Requirement already satisfied: idna<3,>=2.5 in /tensorflow-2.1.0/python3.6 (from requests->fred) (2.9)\n",
            "Requirement already satisfied: chardet<4,>=3.0.2 in /tensorflow-2.1.0/python3.6 (from requests->fred) (3.0.4)\n",
            "Requirement already satisfied: mock in /usr/local/lib/python3.6/dist-packages (4.0.1)\n"
          ],
          "name": "stdout"
        }
      ]
    },
    {
      "cell_type": "markdown",
      "metadata": {
        "id": "knovwSza04MP",
        "colab_type": "text"
      },
      "source": [
        "# Data Prepartion"
      ]
    },
    {
      "cell_type": "markdown",
      "metadata": {
        "id": "QrnOCJajGrND",
        "colab_type": "text"
      },
      "source": [
        "## Pre-processing Interest Rate data\n"
      ]
    },
    {
      "cell_type": "code",
      "metadata": {
        "id": "IBT7oI__I2MS",
        "colab_type": "code",
        "colab": {}
      },
      "source": [
        "GBPovr = requests.get('https://api.stlouisfed.org/fred/series/observations?series_id=GBPONTD156N&api_key=cdc4dd9f1b0596f6209a77cec5453528&file_type=json&observation_start=' + START_DATE)\n",
        "EURovr = requests.get('https://api.stlouisfed.org/fred/series/observations?series_id=EURONTD156N&api_key=cdc4dd9f1b0596f6209a77cec5453528&file_type=json&observation_start=' + START_DATE)\n",
        "GBP1month = requests.get('https://api.stlouisfed.org/fred/series/observations?series_id=GBP1MTD156N&api_key=cdc4dd9f1b0596f6209a77cec5453528&file_type=json&observation_start=' + START_DATE)\n",
        "EUR1month = requests.get('https://api.stlouisfed.org/fred/series/observations?series_id=EUR1MTD156N&api_key=cdc4dd9f1b0596f6209a77cec5453528&file_type=json&observation_start=' + START_DATE)\n",
        "GBP3month = requests.get('https://api.stlouisfed.org/fred/series/observations?series_id=GBP3MTD156N&api_key=cdc4dd9f1b0596f6209a77cec5453528&file_type=json&observation_start='+ START_DATE)\n",
        "EUR3month = requests.get('https://api.stlouisfed.org/fred/series/observations?series_id=EUR3MTD156N&api_key=cdc4dd9f1b0596f6209a77cec5453528&file_type=json&observation_start='+ START_DATE)\n",
        "GBP6month = requests.get('https://api.stlouisfed.org/fred/series/observations?series_id=GBP6MTD156N&api_key=cdc4dd9f1b0596f6209a77cec5453528&file_type=json&observation_start='+ START_DATE)\n",
        "EUR6month = requests.get('https://api.stlouisfed.org/fred/series/observations?series_id=EUR6MTD156N&api_key=cdc4dd9f1b0596f6209a77cec5453528&file_type=json&observation_start='+ START_DATE)\n",
        "GBP12month = requests.get('https://api.stlouisfed.org/fred/series/observations?series_id=GBP12MD156N&api_key=cdc4dd9f1b0596f6209a77cec5453528&file_type=json&observation_start='+ START_DATE)\n",
        "EUR12month = requests.get('https://api.stlouisfed.org/fred/series/observations?series_id=EUR12MD156N&api_key=cdc4dd9f1b0596f6209a77cec5453528&file_type=json&observation_start='+ START_DATE)\n",
        "\n",
        "GBRovrJson = (json.loads(GBPovr.content))[\"observations\"]\n",
        "EURovrJson = (json.loads(EURovr.content))[\"observations\"]\n",
        "GBR1mJson = (json.loads(GBP1month.content))[\"observations\"]\n",
        "EUR1mJson = (json.loads(EUR1month.content))[\"observations\"]\n",
        "GBR3mJson = (json.loads(GBP3month.content))[\"observations\"]\n",
        "EUR3mJson = (json.loads(EUR3month.content))[\"observations\"]\n",
        "GBR6mJson = (json.loads(GBP6month.content))[\"observations\"]\n",
        "EUR6mJson = (json.loads(EUR6month.content))[\"observations\"]\n",
        "GBR12mJson = (json.loads(GBP12month.content))[\"observations\"]\n",
        "EUR12mJson = (json.loads(EUR12month.content))[\"observations\"]\n",
        "\n",
        "def getRatioValues(datasetX, datasetY):\n",
        "    dates = []\n",
        "    valuesX = []\n",
        "    valuesY = []\n",
        "\n",
        "    for x in range(len(datasetX)):\n",
        "        if (datasetX[x][\"value\"] == '.' or datasetY[x][\"value\"] == '.'):\n",
        "            continue\n",
        "\n",
        "        dates.append(pd.Timestamp(datasetX[x][\"date\"]))\n",
        "        valuesX.append(float(datasetX[x][\"value\"]))\n",
        "        valuesY.append(float(datasetY[x][\"value\"]))\n",
        "\n",
        "    datasetXarr = np.array(valuesX, dtype=np.float)\n",
        "    datasetYarr = np.array(valuesY, dtype=np.float)\n",
        "\n",
        "    ratioValues = datasetXarr / datasetYarr\n",
        "\n",
        "    data_mean = ratioValues.mean()\n",
        "    data_std = ratioValues.std()\n",
        "    dataNormalised = (ratioValues - data_mean) / data_std\n",
        "\n",
        "    res = {dates[i]: dataNormalised[i] for i in range(len(dates))}\n",
        "\n",
        "    return res\n",
        "\n",
        "GBPEURovrRatio = getRatioValues(GBRovrJson,EURovrJson)\n",
        "\n",
        "GBPEUR1mRatio = getRatioValues(GBR1mJson,EUR1mJson)\n",
        "GBPEUR3mRatio = getRatioValues(GBR3mJson,EUR3mJson)\n",
        "GBPEUR6mRatio = getRatioValues(GBR6mJson,EUR6mJson)\n",
        "GBPEUR12mRatio = getRatioValues(GBR12mJson,EUR12mJson)"
      ],
      "execution_count": 0,
      "outputs": []
    },
    {
      "cell_type": "markdown",
      "metadata": {
        "id": "yS4pR6Orq9ma",
        "colab_type": "text"
      },
      "source": [
        "## Pre-processing Inflation data"
      ]
    },
    {
      "cell_type": "code",
      "metadata": {
        "id": "UBLa-rIMNPut",
        "colab_type": "code",
        "colab": {}
      },
      "source": [
        "ukCPI = fetch_series('IMF/CPI/M.GB.PCPIHA_PC_CP_A_PT')\n",
        "euCPI = fetch_series('IMF/CPI/M.U2.PCPIHA_PC_CP_A_PT')\n",
        "\n",
        "dbnomicsQuery = \"period >= '\" + START_DATE + \"'\"\n",
        "\n",
        "ukCPI = ukCPI.query(dbnomicsQuery)\n",
        "euCPI = euCPI.query(dbnomicsQuery)\n",
        "\n",
        "ukDict = {ukCPI.period.iloc[i]: ukCPI.value.iloc[i] for i in range(len(ukCPI))}\n",
        "euDict = {euCPI.period.iloc[i]: euCPI.value.iloc[i] for i in range(len(euCPI))}\n",
        "\n",
        "dates = []\n",
        "ukCPIarr = []\n",
        "euCPIarr = []\n",
        "\n",
        "for k,v in ukDict.items():\n",
        "\n",
        "    match = euDict.get(k, 0)\n",
        "\n",
        "    if (match != 0):\n",
        "        ukCPIarr.append(v)\n",
        "        euCPIarr.append(match)\n",
        "        dates.append(k)\n",
        "\n",
        "\n",
        "ukCPIarr = np.array(ukCPIarr, dtype=np.float)\n",
        "euCPIarr = np.array(euCPIarr, dtype=np.float)\n",
        "\n",
        "ukEuCpiRatio = ukCPIarr*1000 / euCPIarr*1000\n",
        "\n",
        "# Normalise CPI data\n",
        "cpi_mean = ukEuCpiRatio.mean()\n",
        "cpi_std = ukEuCpiRatio.std()\n",
        "ukEuCpiRatio = (ukEuCpiRatio - cpi_mean) / cpi_std\n",
        "\n",
        "cpiDict = {dates[i]: ukEuCpiRatio[i] for i in range(len(dates))}\n",
        "\n",
        "cpiData = {'Date':dates, 'Value':ukEuCpiRatio}\n",
        "cpiDf = pd.DataFrame(cpiData)"
      ],
      "execution_count": 0,
      "outputs": []
    },
    {
      "cell_type": "markdown",
      "metadata": {
        "id": "wz9f5MPUOBva",
        "colab_type": "text"
      },
      "source": [
        "## Pre-processing International Reserves data"
      ]
    },
    {
      "cell_type": "code",
      "metadata": {
        "id": "yu_mv-VUOMyh",
        "colab_type": "code",
        "colab": {}
      },
      "source": [
        "ukIR = fetch_series('IMF/IFS/M.GB.RAFAGOLDM_USD')\n",
        "euIR = fetch_series('IMF/IFS/M.U2.RAFAGOLDM_USD')\n",
        "\n",
        "dbnomicsQuery = \"period >= '\" + START_DATE + \"'\"\n",
        "# and period < '2019-06-01'\"\n",
        "\n",
        "ukIR = ukIR.query(dbnomicsQuery)\n",
        "euIR = euIR.query(dbnomicsQuery)\n",
        "\n",
        "ukIRdates = []\n",
        "for x in ukIR.period:\n",
        "    ukIRdates.append(x)\n",
        "\n",
        "ukIRarr = np.array(ukIR.value, dtype=np.float)\n",
        "euIRarr = np.array(euIR.value, dtype=np.float)\n",
        "\n",
        "ukEuIRRatio = ukIRarr*1000 / euIRarr*1000\n",
        "\n",
        "ir_mean = ukEuIRRatio.mean()\n",
        "ir_std = ukEuIRRatio.std()\n",
        "ukEuIRRatio = (ukEuIRRatio - ir_mean) / ir_std\n",
        "\n",
        "irDict = {ukIRdates[i]: ukEuIRRatio[i] for i in range(len(ukIRdates))}\n",
        "\n",
        "irData = {'Date':ukIR.period, 'Value':ukEuIRRatio}\n",
        "irDf = pd.DataFrame(irData)"
      ],
      "execution_count": 0,
      "outputs": []
    },
    {
      "cell_type": "markdown",
      "metadata": {
        "id": "sVW8UDb5OziA",
        "colab_type": "text"
      },
      "source": [
        "## Pre-processing Balance of Payments data"
      ]
    },
    {
      "cell_type": "code",
      "metadata": {
        "id": "XYGfT2feO9Yb",
        "colab_type": "code",
        "outputId": "c930edd4-c220-4f6f-8c5c-2af641143297",
        "colab": {
          "base_uri": "https://localhost:8080/",
          "height": 54
        }
      },
      "source": [
        "ukBOP = fetch_series('IMF/BOP/Q.GB.BACK_BP6_USD')\n",
        "euBOP = fetch_series('IMF/BOP/Q.U2.BACK_BP6_USD')\n",
        "\n",
        "dbnomicsQuery = \"period >= '\" + START_DATE + \"'\"\n",
        "# and period < '2019-06-01'\"\n",
        "\n",
        "ukBOP = ukBOP.query(dbnomicsQuery)\n",
        "euBOP = euBOP.query(dbnomicsQuery)\n",
        "\n",
        "ukBOPdates = []\n",
        "for x in ukBOP.period:\n",
        "    ukBOPdates.append(x)\n",
        "\n",
        "ukBOParr = np.array(ukBOP.value, dtype=np.float)\n",
        "euBOParr = np.array(euBOP.value, dtype=np.float)\n",
        "\n",
        "ukEuBOPRatio = ukBOParr*1000 / euBOParr*1000\n",
        "\n",
        "# Normalise BOP data\n",
        "bop_mean = ukEuBOPRatio.mean()\n",
        "bop_std = ukEuBOPRatio.std()\n",
        "ukEuBOPRatio = (ukEuBOPRatio - bop_mean) / bop_std\n",
        "\n",
        "bopDict = {ukBOPdates[i]: ukEuBOPRatio[i] for i in range(len(ukBOPdates))}\n",
        "\n",
        "bopData = {'Date':ukBOP.period, 'Value':ukEuBOPRatio}\n",
        "bopDf = pd.DataFrame(bopData)\n",
        "\n",
        "print(bopDict)"
      ],
      "execution_count": 26,
      "outputs": [
        {
          "output_type": "stream",
          "text": [
            "{Timestamp('2016-01-01 00:00:00'): -0.6259830251612936, Timestamp('2016-04-01 00:00:00'): 0.2568904128584844, Timestamp('2016-07-01 00:00:00'): -0.01006309969593224, Timestamp('2016-10-01 00:00:00'): 0.8881103288351604, Timestamp('2017-01-01 00:00:00'): 0.3419231588248373, Timestamp('2017-04-01 00:00:00'): -2.7996228048180534, Timestamp('2017-07-01 00:00:00'): 0.6897907396430131, Timestamp('2017-10-01 00:00:00'): 1.0264525998033418, Timestamp('2018-01-01 00:00:00'): 0.5586072758166829, Timestamp('2018-04-01 00:00:00'): 0.6355686211759167, Timestamp('2018-07-01 00:00:00'): 0.43177414779181905, Timestamp('2018-10-01 00:00:00'): 0.13706256115290633, Timestamp('2019-01-01 00:00:00'): -0.7819957212531107, Timestamp('2019-04-01 00:00:00'): -1.482462546513092, Timestamp('2019-07-01 00:00:00'): 0.7339473515393193}\n"
          ],
          "name": "stdout"
        }
      ]
    },
    {
      "cell_type": "markdown",
      "metadata": {
        "id": "1YSsNlwQPnPr",
        "colab_type": "text"
      },
      "source": [
        "## Pre-processing FOREX data\n"
      ]
    },
    {
      "cell_type": "code",
      "metadata": {
        "id": "Kf33ycLPPufj",
        "colab_type": "code",
        "colab": {}
      },
      "source": [
        "startDate = '2018-01-01'\n",
        "endDate = '2019-01-01'\n",
        "\n",
        "# Get FOREX data\n",
        "quandl.ApiConfig.api_key = \"VXqfuyrbTE8xxYZzqePw\"\n",
        "dataGbpEurRate = quandl.get(\"BOE/XUDLERS\", start_date=START_DATE, returns=\"numpy\")\n",
        "forexDataN = dataGbpEurRate.Value\n",
        "\n",
        "# Normalise data\n",
        "forex_mean = forexDataN.mean()\n",
        "forex_std = forexDataN.std()\n",
        "forexDataN = (forexDataN - forex_mean) / forex_std\n",
        "\n",
        "forexData = {'Date':dataGbpEurRate.Date,'Value':forexDataN}\n",
        "forexDf = pd.DataFrame(forexData)"
      ],
      "execution_count": 0,
      "outputs": []
    },
    {
      "cell_type": "markdown",
      "metadata": {
        "id": "P1qXH4oOBAVu",
        "colab_type": "text"
      },
      "source": [
        "## FOREX Moving Averages"
      ]
    },
    {
      "cell_type": "code",
      "metadata": {
        "id": "RjWy9l5rBK58",
        "colab_type": "code",
        "colab": {}
      },
      "source": [
        "pd.set_option('display.max_rows', 25)\n",
        "pd.set_option('display.max_columns', 25)\n",
        "pd.set_option('display.width', None)\n",
        "pd.set_option('display.max_colwidth', -1)\n",
        "\n",
        "\n",
        "ukFOREXdates = []\n",
        "for x in dataGbpEurRate.Date:\n",
        "    ukFOREXdates.append(pd.Timestamp(x))\n",
        "\n",
        "def getMovingAverages(data, windowSize):\n",
        "\n",
        "    movingAverages = []\n",
        "\n",
        "    for x in range(len(data)):\n",
        "        if (x < windowSize):\n",
        "            window = data[:x+1]\n",
        "        else:\n",
        "            window = data[x-(windowSize - 1):x+1]\n",
        "        \n",
        "        total = sum(window)\n",
        "        average = total / len(window)\n",
        "        movingAverages.append(average)\n",
        "\n",
        "    return movingAverages\n",
        "\n",
        "fiveDayMovingAverages = getMovingAverages(forexDataN, 5)\n",
        "tenDayMovingAverages = getMovingAverages(forexDataN, 10)\n",
        "\n",
        "fiveDayDict = {ukFOREXdates[i]: fiveDayMovingAverages[i] for i in range(len(fiveDayMovingAverages))}\n",
        "tenDayDict = {ukFOREXdates[i]: tenDayMovingAverages[i] for i in range(len(tenDayMovingAverages))}"
      ],
      "execution_count": 0,
      "outputs": []
    },
    {
      "cell_type": "markdown",
      "metadata": {
        "id": "uYtmcOd1QXf-",
        "colab_type": "text"
      },
      "source": [
        "## Creating full data matrix"
      ]
    },
    {
      "cell_type": "code",
      "metadata": {
        "id": "UaLD_2QagA8w",
        "colab_type": "code",
        "outputId": "83526b0a-11e2-4d46-d043-a262a4e2f06c",
        "colab": {
          "base_uri": "https://localhost:8080/",
          "height": 476
        }
      },
      "source": [
        "pd.set_option('display.max_rows', 12)\n",
        "pd.set_option('display.max_columns', None)\n",
        "pd.set_option('display.width', None)\n",
        "pd.set_option('display.max_colwidth', -1)\n",
        "\n",
        "mainDf = pd.DataFrame(columns=['Date','ForexRate','5dayMovingAvg','10dayMovingAvg','CPIRatio', 'IRRatio', 'BOPRatio', 'OvrLIBOR', '1mLIBOR','3mLIBOR','6mLIBOR','12mLIBOR'])\n",
        "\n",
        "cpiCounter = 0\n",
        "irCounter = 0\n",
        "\n",
        "for index, row in forexDf.iterrows():\n",
        "\n",
        "    newD = row['Date']\n",
        "    roundD = newD.replace(day=1)\n",
        "    quarterD = 1\n",
        "\n",
        "    quarter = newD.quarter\n",
        "\n",
        "    cpi = cpiDict.get(roundD,0)\n",
        "    ir = irDict.get(roundD,0)\n",
        "\n",
        "    switcher={\n",
        "        1:newD.replace(month=1,day=1),\n",
        "        2:newD.replace(month=4,day=1),\n",
        "        3:newD.replace(month=7,day=1),\n",
        "        4:newD.replace(month=10,day=1)\n",
        "    }\n",
        "\n",
        "    quarterD = switcher.get(newD.quarter)\n",
        "\n",
        "    bop = bopDict.get(quarterD,0)\n",
        "\n",
        "    ovrI = GBPEURovrRatio.get(row['Date'], 0)\n",
        "    i1month = GBPEUR1mRatio.get(row['Date'], 0)\n",
        "    i3month = GBPEUR3mRatio.get(row['Date'], 0)\n",
        "    i6month = GBPEUR6mRatio.get(row['Date'], 0)\n",
        "    i12month = GBPEUR12mRatio.get(row['Date'], 0)\n",
        "\n",
        "    movingAvg5Day = fiveDayDict.get(row['Date'], 0)\n",
        "    movingAvg10Day = tenDayDict.get(row['Date'], 0)\n",
        "\n",
        "    mainDf = mainDf.append({'Date':row['Date'],\n",
        "                            'ForexRate':row['Value'],\n",
        "                            '5dayMovingAvg':movingAvg5Day,\n",
        "                            '10dayMovingAvg':movingAvg10Day,\n",
        "                            'CPIRatio': cpi,\n",
        "                            'IRRatio' : ir,\n",
        "                            'BOPRatio': bop,\n",
        "                            'OvrLIBOR': ovrI,\n",
        "                            '1mLIBOR': i1month,\n",
        "                            '3mLIBOR': i3month,\n",
        "                            '6mLIBOR': i6month,\n",
        "                            '12mLIBOR': i12month},\n",
        "                            ignore_index=True)\n",
        "\n",
        "\n",
        "#mainDf.set_index('Date')\n",
        "\n",
        "print(mainDf)\n",
        "\n",
        "# Split and format data\n",
        "futureDistance = 0\n",
        "historySize = 6"
      ],
      "execution_count": 29,
      "outputs": [
        {
          "output_type": "stream",
          "text": [
            "           Date  ForexRate  5dayMovingAvg  10dayMovingAvg  CPIRatio   IRRatio  \\\n",
            "0    2016-01-04  3.792288   3.792288       3.792288       -0.27492  -1.691234   \n",
            "1    2016-01-05  3.911737   3.852012       3.852012       -0.27492  -1.691234   \n",
            "2    2016-01-06  3.786600   3.830208       3.830208       -0.27492  -1.691234   \n",
            "3    2016-01-07  3.515469   3.751524       3.751524       -0.27492  -1.691234   \n",
            "4    2016-01-08  3.284155   3.658050       3.658050       -0.27492  -1.691234   \n",
            "...         ...       ...        ...            ...            ...        ...   \n",
            "1054 2020-02-28  0.060925   0.429511       0.581192        0.00000   0.000000   \n",
            "1055 2020-03-02 -0.272774   0.258490       0.475963        0.00000   0.000000   \n",
            "1056 2020-03-03 -0.251918   0.063579       0.365805        0.00000   0.000000   \n",
            "1057 2020-03-04 -0.164701  -0.079380       0.272900        0.00000   0.000000   \n",
            "1058 2020-03-05 -0.090756  -0.143845       0.201989        0.00000   0.000000   \n",
            "\n",
            "      BOPRatio  OvrLIBOR   1mLIBOR   3mLIBOR   6mLIBOR  12mLIBOR  \n",
            "0    -0.625983 -1.572001 -2.527234 -4.298806 -9.445031  0.323315  \n",
            "1    -0.625983 -1.577160 -2.492465 -4.276815 -9.645554  0.321568  \n",
            "2    -0.625983 -1.533835 -2.485739 -4.133121 -8.220363  0.341098  \n",
            "3    -0.625983 -1.512420 -2.429479 -3.776622 -6.978891  0.365584  \n",
            "4    -0.625983 -1.555313 -2.442314 -3.776622 -6.745416  0.361488  \n",
            "...        ...       ...       ...       ...       ...       ...  \n",
            "1054  0.000000 -0.340236  0.029792  0.496030  0.711655  0.067285  \n",
            "1055  0.000000  0.000000  0.000000  0.000000  0.000000  0.000000  \n",
            "1056  0.000000  0.000000  0.000000  0.000000  0.000000  0.000000  \n",
            "1057  0.000000  0.000000  0.000000  0.000000  0.000000  0.000000  \n",
            "1058  0.000000  0.000000  0.000000  0.000000  0.000000  0.000000  \n",
            "\n",
            "[1059 rows x 12 columns]\n"
          ],
          "name": "stdout"
        }
      ]
    },
    {
      "cell_type": "markdown",
      "metadata": {
        "id": "Jb7V-Nx21IKt",
        "colab_type": "text"
      },
      "source": [
        "# Models"
      ]
    },
    {
      "cell_type": "markdown",
      "metadata": {
        "id": "B3pUL5P8rC_d",
        "colab_type": "text"
      },
      "source": [
        "## Standard ANN"
      ]
    },
    {
      "cell_type": "code",
      "metadata": {
        "id": "7wFbpmT0sFOs",
        "colab_type": "code",
        "outputId": "66f221d9-384f-4821-dde8-1e9e65a230d0",
        "colab": {
          "base_uri": "https://localhost:8080/",
          "height": 187
        }
      },
      "source": [
        "from joblib import dump, load\n",
        "import pickle\n",
        "\n",
        "\n",
        "\n",
        "def formatData(data, start, end, history, target):\n",
        "    x = []\n",
        "    y = []\n",
        "    \n",
        "    startIndex = start + historySize\n",
        "    endIndex = len(data) - futureDistance\n",
        "\n",
        "    for i in range(startIndex, endIndex):\n",
        "        indices = range(i-historySize, i)\n",
        "        # Reshape data from (history_size,) to (history_size, 1)\n",
        "        x.append(data[indices])\n",
        "        y.append(data[i+futureDistance])\n",
        "        \n",
        "    return np.array(x), np.array(y)\n",
        "\n",
        "\n",
        "TRAIN_SPLIT = round(len(forexDataN) * 0.7)\n",
        "VALIDATION_SPLIT = round(len(forexDataN) * 0.85)\n",
        "\n",
        "xTrain, yTrain = formatData(forexDataN, 0, TRAIN_SPLIT, historySize, futureDistance)\n",
        "xVal, yVal = formatData(forexDataN, TRAIN_SPLIT, VALIDATION_SPLIT, historySize, futureDistance)\n",
        "xTest, yTest = formatData(forexDataN, VALIDATION_SPLIT, None, historySize, futureDistance)\n",
        "\n",
        "print(xTest[0])\n",
        "print(yTest[0])\n",
        "\n",
        "BATCH_SIZE = 30\n",
        "BUFFER_SIZE = 10\n",
        "\n",
        "# Form training tensors and shuffle etc.\n",
        "dataTrain = tf.data.Dataset.from_tensor_slices((xTrain, yTrain))\n",
        "dataTrain = dataTrain.cache().shuffle(BUFFER_SIZE).batch(BATCH_SIZE).repeat()\n",
        "# Form validation tensors and shuffle etc.\n",
        "dataVal = tf.data.Dataset.from_tensor_slices((xVal, yVal))\n",
        "dataVal = dataVal.batch(BATCH_SIZE).repeat()\n",
        "\n",
        "# Create model\n",
        "EVALUATION_INTERVAL = 10\n",
        "EPOCHS = 2\n",
        "\n",
        "def standard_ann_model():\n",
        "\tmodel = keras.Sequential([\n",
        "        layers.Dense(6,input_dim=(6),kernel_initializer='normal',activation='relu'),\n",
        "        layers.Dense(8, activation='relu'),\n",
        "        layers.Dense(1)\n",
        "    ])\n",
        "\n",
        "\tmodel.compile(optimizer='adam', loss='mse')\n",
        "\treturn model\n",
        "\n",
        "\n",
        "model = standard_ann_model()\n",
        "\n",
        "model.fit(dataTrain, epochs=EPOCHS,\n",
        "                    steps_per_epoch=EVALUATION_INTERVAL,\n",
        "                    validation_data=dataVal,\n",
        "                    validation_steps=50\n",
        "          )\n",
        "\n",
        "\n",
        "model.save('newmodel.h5')\n",
        "\n",
        "result = model.evaluate(xTest, yTest, batch_size=30)\n",
        "print(\"-----------------------------------------\")\n",
        "print(\"Model loss:\", result)\n",
        "\n",
        "\n",
        "#print(type(model))"
      ],
      "execution_count": 30,
      "outputs": [
        {
          "output_type": "stream",
          "text": [
            "[-0.72213031 -0.76194668 -0.8813958  -1.15631837 -1.30610377 -1.13546218]\n",
            "-1.154422352863212\n",
            "Train for 10 steps, validate for 50 steps\n",
            "Epoch 1/2\n",
            "10/10 [==============================] - 1s 85ms/step - loss: 2.1945 - val_loss: 0.3319\n",
            "Epoch 2/2\n",
            "10/10 [==============================] - 0s 8ms/step - loss: 0.3113 - val_loss: 0.2988\n",
            "153/153 [==============================] - 0s 417us/sample - loss: 0.3278\n",
            "-----------------------------------------\n",
            "Model loss: 0.32779597491025925\n"
          ],
          "name": "stdout"
        }
      ]
    },
    {
      "cell_type": "markdown",
      "metadata": {
        "id": "LIg8KNPOqiyn",
        "colab_type": "text"
      },
      "source": [
        "## Univariate LSTM"
      ]
    },
    {
      "cell_type": "code",
      "metadata": {
        "id": "6HeS-tpxf97i",
        "colab_type": "code",
        "colab": {
          "base_uri": "https://localhost:8080/",
          "height": 425
        },
        "outputId": "1e25ea16-11d1-4f09-c454-1631ef506683"
      },
      "source": [
        "def formatData(data, start, end, history, target):\n",
        "    x = []\n",
        "    y = []\n",
        "    \n",
        "    startIndex = start + historySize\n",
        "    endIndex = len(data) - futureDistance\n",
        "\n",
        "    for i in range(startIndex, endIndex):\n",
        "        indices = range(i-historySize, i)\n",
        "        # Reshape data from (history_size,) to (history_size, 1)\n",
        "        x.append(np.reshape(data[indices], (historySize, 1)))\n",
        "        y.append(data[i+futureDistance])\n",
        "        \n",
        "    return np.array(x), np.array(y)\n",
        "\n",
        "TRAIN_SPLIT = round(len(forexDataN) * 0.7)\n",
        "VALIDATION_SPLIT = round(len(forexDataN) * 0.85)\n",
        "\n",
        "xTrain, yTrain = formatData(forexDataN, 0, TRAIN_SPLIT, historySize, futureDistance)\n",
        "xVal, yVal = formatData(forexDataN, TRAIN_SPLIT, VALIDATION_SPLIT, historySize, futureDistance)\n",
        "xTest, yTest = formatData(forexDataN, VALIDATION_SPLIT, None, historySize, futureDistance)\n",
        "\n",
        "BATCH_SIZE = 30\n",
        "BUFFER_SIZE = 10\n",
        "\n",
        "# Form training tensors and shuffle etc.\n",
        "dataTrain = tf.data.Dataset.from_tensor_slices((xTrain, yTrain))\n",
        "dataTrain = dataTrain.cache().shuffle(BUFFER_SIZE).batch(BATCH_SIZE).repeat()\n",
        "# Form validation tensors and shuffle etc.\n",
        "dataVal = tf.data.Dataset.from_tensor_slices((xVal, yVal))\n",
        "dataVal = dataVal.batch(BATCH_SIZE).repeat()\n",
        "\n",
        "# Create model\n",
        "EVALUATION_INTERVAL = 100\n",
        "EPOCHS = 10\n",
        "\n",
        "def lstm_ann_model_single():\n",
        "    lstm_model = keras.Sequential([\n",
        "        layers.LSTM(8, input_shape=xTrain.shape[-2:]),\n",
        "        layers.Dense(1)\n",
        "    ])\n",
        "    lstm_model.compile(optimizer='adam', loss='mse')\n",
        "    return lstm_model\n",
        "\n",
        "modelS = lstm_ann_model_single()\n",
        "\n",
        "modelS.fit(dataTrain, epochs=EPOCHS,\n",
        "                     steps_per_epoch=EVALUATION_INTERVAL,\n",
        "                      validation_data=dataVal,\n",
        "                      validation_steps=50)\n",
        "\n",
        "\n",
        "\n",
        "result = modelS.evaluate(xTest, yTest, batch_size=30)\n",
        "print(\"-----------------------------------------\")\n",
        "print(\"Model loss:\", result)\n",
        "\n"
      ],
      "execution_count": 31,
      "outputs": [
        {
          "output_type": "stream",
          "text": [
            "Train for 100 steps, validate for 50 steps\n",
            "Epoch 1/10\n",
            "100/100 [==============================] - 2s 22ms/step - loss: 0.5146 - val_loss: 0.1243\n",
            "Epoch 2/10\n",
            "100/100 [==============================] - 1s 5ms/step - loss: 0.2639 - val_loss: 0.0633\n",
            "Epoch 3/10\n",
            "100/100 [==============================] - 1s 5ms/step - loss: 0.1399 - val_loss: 0.0604\n",
            "Epoch 4/10\n",
            "100/100 [==============================] - 1s 6ms/step - loss: 0.0934 - val_loss: 0.0571\n",
            "Epoch 5/10\n",
            "100/100 [==============================] - 1s 5ms/step - loss: 0.0642 - val_loss: 0.0524\n",
            "Epoch 6/10\n",
            "100/100 [==============================] - 1s 5ms/step - loss: 0.0619 - val_loss: 0.0474\n",
            "Epoch 7/10\n",
            "100/100 [==============================] - 1s 5ms/step - loss: 0.0582 - val_loss: 0.0431\n",
            "Epoch 8/10\n",
            "100/100 [==============================] - 1s 5ms/step - loss: 0.0489 - val_loss: 0.0389\n",
            "Epoch 9/10\n",
            "100/100 [==============================] - 1s 5ms/step - loss: 0.0415 - val_loss: 0.0355\n",
            "Epoch 10/10\n",
            "100/100 [==============================] - 1s 5ms/step - loss: 0.0405 - val_loss: 0.0327\n",
            "153/153 [==============================] - 0s 2ms/sample - loss: 0.0413\n",
            "-----------------------------------------\n",
            "Model loss: 0.04129518703648857\n"
          ],
          "name": "stdout"
        }
      ]
    },
    {
      "cell_type": "code",
      "metadata": {
        "id": "Krov9-nqPjt1",
        "colab_type": "code",
        "outputId": "c94824b1-6d06-4d55-9a7c-6a4b2558573e",
        "colab": {
          "base_uri": "https://localhost:8080/",
          "height": 34
        }
      },
      "source": [
        "for x, y in dataVal.take(1):\n",
        "  print(modelS.predict(x).shape)\n",
        "\n",
        "\n"
      ],
      "execution_count": 32,
      "outputs": [
        {
          "output_type": "stream",
          "text": [
            "(30, 1)\n"
          ],
          "name": "stdout"
        }
      ]
    },
    {
      "cell_type": "markdown",
      "metadata": {
        "id": "gqgN112q0mGA",
        "colab_type": "text"
      },
      "source": [
        "## Multivariate LSTM (Single-step)"
      ]
    },
    {
      "cell_type": "code",
      "metadata": {
        "id": "_P4-NPkw0rVV",
        "colab_type": "code",
        "outputId": "81ed73fc-4349-41a9-e6f2-ec0ed99353d7",
        "colab": {
          "base_uri": "https://localhost:8080/",
          "height": 153
        }
      },
      "source": [
        "EPOCHS = 2\n",
        "EVALUATION_INTERVAL = 10\n",
        "\n",
        "\n",
        "features = ['ForexRate']\n",
        "\n",
        "dataSet = mainDf[features]\n",
        "dataSet.index = mainDf['Date']\n",
        "\n",
        "dataSet = dataSet.values\n",
        "\n",
        "TRAIN_SPLIT = round(len(dataSet) * 0.7)\n",
        "VALIDATION_SPLIT = round(len(dataSet) * 0.85)\n",
        "\n",
        "features = []\n",
        "labels = []\n",
        "\n",
        "def multivariate_data(dataset, target, start_index, end_index, history_size,\n",
        "                      target_size, step, single_step=True):\n",
        "  data = []\n",
        "  labels = []\n",
        "\n",
        "  start_index = start_index + history_size\n",
        "  if end_index is None:\n",
        "    end_index = len(dataset) - target_size\n",
        "\n",
        "  for i in range(start_index, end_index):\n",
        "    indices = range(i-history_size, i, step)\n",
        "    data.append(dataset[indices])\n",
        "\n",
        "    if single_step:\n",
        "      labels.append(target[i+target_size])\n",
        "    else:\n",
        "      labels.append(target[i:i+target_size])\n",
        "\n",
        "  return np.array(data), np.array(labels)\n",
        "\n",
        "lags = 20\n",
        "futureDistance = 10\n",
        "step = 1\n",
        "\n",
        "xTrain, yTrain = getData(dataSet, dataSet[:, 0], 0, TRAIN_SPLIT, lags, futureDistance, step)\n",
        "xVal, yVal = getData(dataSet, dataSet[:, 0],TRAIN_SPLIT, VALIDATION_SPLIT, lags, futureDistance, step)\n",
        "xTest, yTest = getData(dataSet, dataSet[:, 0],VALIDATION_SPLIT, len(dataSet), lags, futureDistance, step)\n",
        "\n",
        "trainData = tf.data.Dataset.from_tensor_slices((xTrain, yTrain))\n",
        "trainData = trainData.cache().shuffle(BUFFER_SIZE).batch(BATCH_SIZE).repeat()\n",
        "\n",
        "valData = tf.data.Dataset.from_tensor_slices((xVal, yVal))\n",
        "valData = valData.batch(BATCH_SIZE).repeat()\n",
        "\n",
        "def lstm_ann_single_model():\n",
        "    lstm_model = keras.Sequential([\n",
        "        layers.LSTM(32, input_shape=xTrain.shape[-2:]),\n",
        "        layers.Dense(1)\n",
        "    ])\n",
        "\n",
        "    lstm_model.compile(optimizer=tf.keras.optimizers.RMSprop(), loss='mse')\n",
        "    return lstm_model\n",
        "\n",
        "\n",
        "model = lstm_ann_single_model()\n",
        "\n",
        "single_step_history = model.fit(trainData, epochs=EPOCHS,\n",
        "                                            steps_per_epoch=EVALUATION_INTERVAL,\n",
        "                                            validation_data=valData,\n",
        "                                            validation_steps=50)\n",
        "\n",
        "\n",
        "\n",
        "result = model.evaluate(xTest, yTest, batch_size=30)\n",
        "print(\"-----------------------------------------\")\n",
        "print(\"Model loss:\", result)"
      ],
      "execution_count": 68,
      "outputs": [
        {
          "output_type": "stream",
          "text": [
            "Train for 10 steps, validate for 50 steps\n",
            "Epoch 1/2\n",
            "10/10 [==============================] - 3s 290ms/step - loss: 0.8011 - val_loss: 0.1642\n",
            "Epoch 2/2\n",
            "10/10 [==============================] - 0s 29ms/step - loss: 0.1550 - val_loss: 0.1062\n",
            "129/129 [==============================] - 0s 3ms/sample - loss: 0.0865\n",
            "-----------------------------------------\n",
            "Model loss: 0.08651743344096251\n"
          ],
          "name": "stdout"
        }
      ]
    },
    {
      "cell_type": "code",
      "metadata": {
        "id": "RLYE3xLtQhjU",
        "colab_type": "code",
        "outputId": "e8f0e0b7-5911-4ba0-98be-655b140a8122",
        "colab": {
          "base_uri": "https://localhost:8080/",
          "height": 851
        }
      },
      "source": [
        "import matplotlib as mpl\n",
        "import matplotlib.pyplot as plt\n",
        "\n",
        "\n",
        "def create_time_steps(length):\n",
        "  return list(range(-length, 0))\n",
        "\n",
        "def show_plot(plot_data, delta, title):\n",
        "  labels = ['History', 'True Future', 'Model Prediction']\n",
        "  marker = ['.-', 'rx', 'go']\n",
        "  time_steps = create_time_steps(plot_data[0].shape[0])\n",
        "  if delta:\n",
        "    future = delta\n",
        "  else:\n",
        "    future = 0\n",
        "\n",
        "  plt.title(title)\n",
        "  for i, x in enumerate(plot_data):\n",
        "    if i:\n",
        "      plt.plot(future, plot_data[i], marker[i], markersize=10,\n",
        "               label=labels[i])\n",
        "    else:\n",
        "      plt.plot(time_steps, plot_data[i].flatten(), marker[i], label=labels[i])\n",
        "  plt.legend()\n",
        "  plt.xlim([time_steps[0], (future+5)*2])\n",
        "  plt.xlabel('Time-Step')\n",
        "  return plt\n",
        "\n",
        "\n",
        "for x, y in valData.take(3):\n",
        "  plot = show_plot([x[0][:, 0].numpy(), y[0].numpy(),\n",
        "                    model.predict(x)[0]], 12,\n",
        "                   'Single Step Prediction')\n",
        "  plot.show()"
      ],
      "execution_count": 69,
      "outputs": [
        {
          "output_type": "display_data",
          "data": {
            "image/png": "[encoded data removed]",
            "text/plain": [
              "<Figure size 432x288 with 1 Axes>"
            ]
          },
          "metadata": {
            "tags": []
          }
        },
        {
          "output_type": "display_data",
          "data": {
            "image/png": "[encoded data removed]",
            "text/plain": [
              "<Figure size 432x288 with 1 Axes>"
            ]
          },
          "metadata": {
            "tags": []
          }
        },
        {
          "output_type": "display_data",
          "data": {
            "image/png": "[encoded data removed]",
            "text/plain": [
              "<Figure size 432x288 with 1 Axes>"
            ]
          },
          "metadata": {
            "tags": []
          }
        }
      ]
    },
    {
      "cell_type": "markdown",
      "metadata": {
        "id": "UnQ1W8Gtcwaf",
        "colab_type": "text"
      },
      "source": [
        "##Multivariate LSTM (Multi-step)"
      ]
    },
    {
      "cell_type": "code",
      "metadata": {
        "id": "VZPKbXIMg2hp",
        "colab_type": "code",
        "outputId": "d45a5dfa-cf35-47a3-8f2e-2a3330d89fe3",
        "colab": {
          "base_uri": "https://localhost:8080/",
          "height": 374
        }
      },
      "source": [
        "future_target = 10\n",
        "future_step = 1\n",
        "lags = 50\n",
        "step = 1\n",
        "EPOCHS = 10\n",
        "EVALUATION_INTERVAL = 200\n",
        "\n",
        "def multivariate_data(dataset, target, start_index, end_index, history_size,\n",
        "                      target_size, step, single_step=False):\n",
        "  data = []\n",
        "  labels = []\n",
        "\n",
        "  start_index = start_index + history_size\n",
        "  if end_index is None:\n",
        "    end_index = len(dataset) - target_size\n",
        "\n",
        "  for i in range(start_index, end_index):\n",
        "    indices = range(i-history_size, i, step)\n",
        "    data.append(dataset[indices])\n",
        "\n",
        "    if single_step:\n",
        "      labels.append(target[i+target_size])\n",
        "    else:\n",
        "      labels.append(target[i:i+target_size])\n",
        "\n",
        "  return np.array(data), np.array(labels)\n",
        "\n",
        "\n",
        "xTrainM, yTrainM = multivariate_data(dataSet, dataSet[:, 0], 0, TRAIN_SPLIT, lags, future_target, step)\n",
        "xValM, yValM = multivariate_data(dataSet, dataSet[:, 0], TRAIN_SPLIT, None, lags, future_target, step)\n",
        "\n",
        "trainDataM = tf.data.Dataset.from_tensor_slices((xTrainM, yTrainM))\n",
        "trainDataM = trainDataM.cache().batch(BATCH_SIZE).repeat()\n",
        "valDataM = tf.data.Dataset.from_tensor_slices((xValM, yValM))\n",
        "valDataM = valDataM.batch(BATCH_SIZE).repeat()\n",
        "\n",
        "\n",
        "def lstm_ann_multi_model():\n",
        "    lstm_model = keras.Sequential([\n",
        "        layers.LSTM(units=32,return_sequences=True,input_shape = (xTrainM.shape[1], xTrainM.shape[2])),\n",
        "        layers.LSTM(16, activation='relu'),\n",
        "        layers.Dense(future_target)\n",
        "    ])\n",
        "\n",
        "    lstm_model.compile(optimizer=tf.keras.optimizers.RMSprop(clipvalue=1.0), loss='mae')\n",
        "    return lstm_model\n",
        "\n",
        "model_multi = lstm_ann_multi_model()\n",
        "multi_history = model_multi.fit(trainDataM, epochs=EPOCHS,steps_per_epoch=EVALUATION_INTERVAL,validation_data=valDataM,validation_steps=50)\n",
        "\n",
        "#model_multi.predict(x)[0]"
      ],
      "execution_count": 66,
      "outputs": [
        {
          "output_type": "stream",
          "text": [
            "Train for 200 steps, validate for 50 steps\n",
            "Epoch 1/10\n",
            "200/200 [==============================] - 4s 21ms/step - loss: 0.5980 - val_loss: 0.5119\n",
            "Epoch 2/10\n",
            "200/200 [==============================] - 1s 7ms/step - loss: 0.4039 - val_loss: 0.5204\n",
            "Epoch 3/10\n",
            "200/200 [==============================] - 1s 7ms/step - loss: 0.3763 - val_loss: 0.5355\n",
            "Epoch 4/10\n",
            "200/200 [==============================] - 1s 7ms/step - loss: 0.3861 - val_loss: 0.5238\n",
            "Epoch 5/10\n",
            "200/200 [==============================] - 1s 7ms/step - loss: 0.3692 - val_loss: 0.5190\n",
            "Epoch 6/10\n",
            "200/200 [==============================] - 1s 7ms/step - loss: 0.3637 - val_loss: 0.5282\n",
            "Epoch 7/10\n",
            "200/200 [==============================] - 1s 7ms/step - loss: 0.3788 - val_loss: 0.5133\n",
            "Epoch 8/10\n",
            "200/200 [==============================] - 2s 8ms/step - loss: 0.3633 - val_loss: 0.5056\n",
            "Epoch 9/10\n",
            "200/200 [==============================] - 1s 7ms/step - loss: 0.3572 - val_loss: 0.5108\n",
            "Epoch 10/10\n",
            "200/200 [==============================] - 1s 7ms/step - loss: 0.3709 - val_loss: 0.4898\n"
          ],
          "name": "stdout"
        }
      ]
    },
    {
      "cell_type": "code",
      "metadata": {
        "id": "T9WVI78Y6JIg",
        "colab_type": "code",
        "colab": {
          "base_uri": "https://localhost:8080/",
          "height": 374
        },
        "outputId": "cd66cd0b-49de-4ade-d3bd-87cd274c470b"
      },
      "source": [
        "def multi_step_plot(history, true_future, prediction):\n",
        "  plt.figure(figsize=(12, 6))\n",
        "  num_in = create_time_steps(len(history))\n",
        "  num_out = len(true_future)\n",
        "\n",
        "  plt.plot(num_in, np.array(history[:, 0]), label='History')\n",
        "  plt.plot(np.arange(num_out)/step, np.array(true_future), 'bo',\n",
        "           label='True Future')\n",
        "  if prediction.any():\n",
        "    plt.plot(np.arange(num_out)/step, np.array(prediction), 'ro',\n",
        "             label='Predicted Future')\n",
        "  plt.legend(loc='upper left')\n",
        "  plt.show()\n",
        "\n",
        "\n",
        "for x, y in valDataM.take(1):\n",
        "  multi_step_plot(x[0], y[0], model_multi.predict(x)[0])"
      ],
      "execution_count": 67,
      "outputs": [
        {
          "output_type": "display_data",
          "data": {
            "image/png": "[encoded data removed]",
            "text/plain": [
              "<Figure size 864x432 with 1 Axes>"
            ]
          },
          "metadata": {
            "tags": []
          }
        }
      ]
    },
    {
      "cell_type": "markdown",
      "metadata": {
        "id": "rDc-oKOp1T6O",
        "colab_type": "text"
      },
      "source": [
        "# Testing"
      ]
    },
    {
      "cell_type": "code",
      "metadata": {
        "id": "1CxChDHwvxdt",
        "colab_type": "code",
        "colab": {}
      },
      "source": [
        "import matplotlib as mpl\n",
        "import matplotlib.pyplot as plt\n",
        "\n",
        "def create_time_steps(length):\n",
        "  return list(range(-length, 0))\n",
        "\n",
        "def show_plot(plot_data, delta, title):\n",
        "  labels = ['History', 'True Future', 'Model Prediction']\n",
        "  marker = ['.-', 'rx', 'go']\n",
        "  time_steps = create_time_steps(plot_data[0].shape[0])\n",
        "  if delta:\n",
        "    future = delta\n",
        "  else:\n",
        "    future = 0\n",
        "\n",
        "  plt.title(title)\n",
        "  for i, x in enumerate(plot_data):\n",
        "    if i:\n",
        "      plt.plot(future, plot_data[i], marker[i], markersize=10,\n",
        "               label=labels[i])\n",
        "    else:\n",
        "      plt.plot(time_steps, plot_data[i].flatten(), marker[i], label=labels[i])\n",
        "  plt.legend()\n",
        "  plt.xlim([time_steps[0], (future+5)*2])\n",
        "  plt.xlabel('Time-Step')\n",
        "  return plt\n",
        "\n",
        "def multi_step_plot(history, true_future, prediction):\n",
        "    print(\"1\")\n",
        "    plt.figure(figsize=(12, 6))\n",
        "    num_in = create_time_steps(len(history))\n",
        "    num_out = len(true_future)\n",
        "\n",
        "    plt.plot(num_in, np.array(history[:, 1]), label='History')\n",
        "    plt.plot(np.arange(num_out)/STEP, np.array(true_future), 'bo',\n",
        "               label='True Future')\n",
        "    if prediction.any():\n",
        "        plt.plot(np.arange(num_out)/STEP, np.array(prediction), 'ro',\n",
        "                label='Predicted Future')\n",
        "    plt.legend(loc='upper left')\n",
        "    plt.show()\n",
        "\n",
        "for x, y in valData.take(3):\n",
        "  plot = show_plot([x[0][:, 0].numpy(), y[0].numpy(),\n",
        "                    model.predict(x)[0]], 12,\n",
        "                   'Single Step Prediction')\n",
        "  plot.show()\n",
        "\n",
        "#for x, y in valDataM.take(3):\n",
        "#    multi_step_plot(x[0], y[0], model.predict(x)[0])\n",
        "\n",
        "#for x, y in valDataM.take(3):\n",
        "\n",
        "#    print(y)\n",
        "\n",
        "\n",
        " #   multi_step_plot(x[0], y[0], model_multi.predict(x)[0])"
      ],
      "execution_count": 0,
      "outputs": []
    }
  ]
}